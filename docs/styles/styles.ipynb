{
 "cells": [
  {
   "cell_type": "markdown",
   "id": "ecological-nickname",
   "metadata": {},
   "source": [
    "# Styles in **magpye**\n",
    "Here is the gallery of the predefined styles, more to come soon ... "
   ]
  },
  {
   "cell_type": "markdown",
   "id": "referenced-norman",
   "metadata": {},
   "source": [
    "##  Isolines "
   ]
  },
  {
   "cell_type": "markdown",
   "id": "chemical-physiology",
   "metadata": {},
   "source": [
    "### black_i5_label \n",
    "Black isolines with interval of 5 with label\n"
   ]
  },
  {
   "cell_type": "code",
   "execution_count": null,
   "id": "attempted-antigua",
   "metadata": {},
   "outputs": [],
   "source": [
    "from magpye import GeoMap\n",
    "\n",
    "fig = GeoMap(area_name=\"europe\")\n",
    "\n",
    "fig.coastlines(land_colour=\"cream\", resolution=\"medium\")\n",
    "fig.contour_lines(\"iso.grib\", style=\"black_i5_label\")\n",
    "fig.gridlines()\n",
    "\n",
    "fig.title([\"Style : black_i5_label\", \"Black isolines with interval of 5 with label\"])\n",
    "fig.legend()\n",
    "fig.footer(\n",
    "    \"© European Centre for Medium-Range Weather Forecasts (ECMWF) Source: www.ecmwf.int Licence: CC-BY-4.0 and ECMWF Terms of Use (https://apps.ecmwf.int/datasets/licences/general/)\",\n",
    "    logo=\"ecmwf\",\n",
    ")\n",
    "\n",
    "fig.show()"
   ]
  },
  {
   "cell_type": "markdown",
   "id": "fixed-calculation",
   "metadata": {},
   "source": [
    "### black_i5_LH \n",
    "Black isolines with interval of 5\n"
   ]
  },
  {
   "cell_type": "code",
   "execution_count": null,
   "id": "curious-bahrain",
   "metadata": {},
   "outputs": [],
   "source": [
    "from magpye import GeoMap\n",
    "\n",
    "fig = GeoMap(area_name=\"europe\")\n",
    "\n",
    "fig.coastlines(land_colour=\"cream\", resolution=\"medium\")\n",
    "fig.contour_lines(\"iso.grib\", style=\"black_i5_LH\")\n",
    "fig.gridlines()\n",
    "\n",
    "fig.title([\"Style : black_i5_LH\", \"Black isolines with interval of 5\"])\n",
    "fig.legend()\n",
    "fig.footer(\n",
    "    \"© European Centre for Medium-Range Weather Forecasts (ECMWF) Source: www.ecmwf.int Licence: CC-BY-4.0 and ECMWF Terms of Use (https://apps.ecmwf.int/datasets/licences/general/)\",\n",
    "    logo=\"ecmwf\",\n",
    ")\n",
    "\n",
    "fig.show()"
   ]
  },
  {
   "cell_type": "markdown",
   "id": "dependent-scanner",
   "metadata": {},
   "source": [
    "### black_i5 \n",
    "Black isolines with interval of 5\n"
   ]
  },
  {
   "cell_type": "code",
   "execution_count": null,
   "id": "ongoing-harvard",
   "metadata": {},
   "outputs": [],
   "source": [
    "from magpye import GeoMap\n",
    "\n",
    "fig = GeoMap(area_name=\"europe\")\n",
    "\n",
    "fig.coastlines(land_colour=\"cream\", resolution=\"medium\")\n",
    "fig.contour_lines(\"iso.grib\", style=\"black_i5\")\n",
    "fig.gridlines()\n",
    "\n",
    "fig.title([\"Style : black_i5\", \"Black isolines with interval of 5\"])\n",
    "fig.legend()\n",
    "fig.footer(\n",
    "    \"© European Centre for Medium-Range Weather Forecasts (ECMWF) Source: www.ecmwf.int Licence: CC-BY-4.0 and ECMWF Terms of Use (https://apps.ecmwf.int/datasets/licences/general/)\",\n",
    "    logo=\"ecmwf\",\n",
    ")\n",
    "\n",
    "fig.show()"
   ]
  },
  {
   "cell_type": "markdown",
   "id": "expensive-forestry",
   "metadata": {},
   "source": [
    "### red_i5 \n",
    "Red isolines with interval of 5\n"
   ]
  },
  {
   "cell_type": "code",
   "execution_count": null,
   "id": "comparable-museum",
   "metadata": {},
   "outputs": [],
   "source": [
    "from magpye import GeoMap\n",
    "\n",
    "fig = GeoMap(area_name=\"europe\")\n",
    "\n",
    "fig.coastlines(land_colour=\"cream\", resolution=\"medium\")\n",
    "fig.contour_lines(\"iso.grib\", style=\"red_i5\")\n",
    "fig.gridlines()\n",
    "\n",
    "fig.title([\"Style : red_i5\", \"Red isolines with interval of 5\"])\n",
    "fig.legend()\n",
    "fig.footer(\n",
    "    \"© European Centre for Medium-Range Weather Forecasts (ECMWF) Source: www.ecmwf.int Licence: CC-BY-4.0 and ECMWF Terms of Use (https://apps.ecmwf.int/datasets/licences/general/)\",\n",
    "    logo=\"ecmwf\",\n",
    ")\n",
    "\n",
    "fig.show()"
   ]
  },
  {
   "cell_type": "markdown",
   "id": "declared-salmon",
   "metadata": {},
   "source": [
    "##  Shading "
   ]
  },
  {
   "cell_type": "markdown",
   "id": "subjective-violin",
   "metadata": {},
   "source": [
    "### blue_red_250 \n",
    "Method : contour shade, with contours Level list : (0.5/2/4/10/25/50/100/250) Colour : from blue to red Used for precipitation\n"
   ]
  },
  {
   "cell_type": "code",
   "execution_count": null,
   "id": "partial-anime",
   "metadata": {},
   "outputs": [],
   "source": [
    "from magpye import GeoMap\n",
    "\n",
    "fig = GeoMap(area_name=\"europe\")\n",
    "\n",
    "fig.coastlines(land_colour=\"cream\", resolution=\"medium\")\n",
    "fig.contour_shaded(\"tp.grib\", style=\"blue_red_250\")\n",
    "fig.coastlines(resolution=\"medium\")\n",
    "fig.gridlines()\n",
    "\n",
    "fig.title(\n",
    "    [\n",
    "        \"Style : blue_red_250\",\n",
    "        \"Method : contour shade, with contours Level list : (0.5/2/4/10/25/50/100/250) Colour : from blue to red Used for precipitation\",\n",
    "    ]\n",
    ")\n",
    "fig.legend()\n",
    "fig.footer(\n",
    "    \"© European Centre for Medium-Range Weather Forecasts (ECMWF) Source: www.ecmwf.int Licence: CC-BY-4.0 and ECMWF Terms of Use (https://apps.ecmwf.int/datasets/licences/general/)\",\n",
    "    logo=\"ecmwf\",\n",
    ")\n",
    "\n",
    "fig.show()"
   ]
  },
  {
   "cell_type": "markdown",
   "id": "dedicated-packing",
   "metadata": {},
   "source": [
    "### specific_humidity1 \n",
    "Contour shade (Range: 0 - 28)\n"
   ]
  },
  {
   "cell_type": "code",
   "execution_count": null,
   "id": "ethical-integrity",
   "metadata": {},
   "outputs": [],
   "source": [
    "from magpye import GeoMap\n",
    "\n",
    "fig = GeoMap(area_name=\"europe\")\n",
    "\n",
    "fig.coastlines(land_colour=\"cream\", resolution=\"medium\")\n",
    "fig.contour_shaded(\"specific_humidity1.grib\", style=\"specific_humidity1\")\n",
    "fig.coastlines(resolution=\"medium\")\n",
    "fig.gridlines()\n",
    "\n",
    "fig.title([\"Style : specific_humidity1\", \"Contour shade (Range: 0 - 28)\"])\n",
    "fig.legend()\n",
    "fig.footer(\n",
    "    \"© European Centre for Medium-Range Weather Forecasts (ECMWF) Source: www.ecmwf.int Licence: CC-BY-4.0 and ECMWF Terms of Use (https://apps.ecmwf.int/datasets/licences/general/)\",\n",
    "    logo=\"ecmwf\",\n",
    ")\n",
    "\n",
    "fig.show()"
   ]
  }
 ],
 "metadata": {},
 "nbformat": 4,
 "nbformat_minor": 5
}
